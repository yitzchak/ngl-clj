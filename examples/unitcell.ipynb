{
 "cells": [
  {
   "cell_type": "code",
   "execution_count": 2,
   "id": "f0b39456-d5f5-4369-ae17-f410e48b8dda",
   "metadata": {},
   "outputs": [
    {
     "name": "stdout",
     "output_type": "stream",
     "text": [
      "To load \"ngl-clj\":\n",
      "  Load 1 ASDF system:\n",
      "    ngl-clj\n"
     ]
    },
    {
     "data": {
      "text/plain": [
       "(:NGL-CLJ)"
      ]
     },
     "execution_count": 2,
     "metadata": {},
     "output_type": "execute_result"
    },
    {
     "name": "stdout",
     "output_type": "stream",
     "text": [
      "\n",
      "; Loading \"ngl-clj\"\n",
      "\n"
     ]
    }
   ],
   "source": [
    "(ql:quickload :ngl-clj)"
   ]
  },
  {
   "cell_type": "code",
   "execution_count": 9,
   "id": "7c492765-43ee-40d9-b924-5d3677f307e1",
   "metadata": {},
   "outputs": [
    {
     "data": {
      "text/plain": [
       "STAGE"
      ]
     },
     "execution_count": 9,
     "metadata": {},
     "output_type": "execute_result"
    }
   ],
   "source": [
    "(defparameter stage (make-instance 'ngl:stage \n",
    "                                   :layout (make-instance 'jupyter-widgets:layout :height \"600px\")\n",
    "                                   :components (list (make-instance 'ngl:structure\n",
    "                                                                    :value \"https://files.rcsb.org/download/3PQR.pdb\"\n",
    "                                                                    :representations (list (make-instance 'ngl:cartoon)\n",
    "                                                                                           (make-instance 'ngl:unitcell)\n",
    "                                                                                           (make-instance 'ngl:ribbon\n",
    "                                                                                                          :assembly \"UNITCELL\"\n",
    "                                                                                                          :color-value #x00dd11\n",
    "                                                                                                          :color-scheme \"uniform\"\n",
    "                                                                                                          :scale 0.9))))))"
   ]
  },
  {
   "cell_type": "code",
   "execution_count": 11,
   "id": "fb95b05f-309a-4768-b422-51dcf6ba275b",
   "metadata": {},
   "outputs": [
    {
     "data": {
      "application/vnd.jupyter.widget-view+json": {
       "model_id": "73166473b8d943c74611c5ca3253ec02",
       "version_major": 2,
       "version_minor": 0
      },
      "text/plain": [
       "A Jupyter Widget"
      ]
     },
     "execution_count": 11,
     "metadata": {},
     "output_type": "execute_result"
    }
   ],
   "source": [
    "stage"
   ]
  },
  {
   "cell_type": "code",
   "execution_count": 12,
   "id": "221d2566-9c1c-4b29-a238-c5db59d6c81d",
   "metadata": {},
   "outputs": [],
   "source": [
    "(ngl:auto-view stage)"
   ]
  },
  {
   "cell_type": "code",
   "execution_count": null,
   "id": "4a1553bf-cf8d-4f88-a85f-8a8f0f9451b4",
   "metadata": {},
   "outputs": [],
   "source": []
  }
 ],
 "metadata": {
  "kernelspec": {
   "display_name": "Common Lisp (SBCL)",
   "language": "common-lisp",
   "name": "common-lisp_sbcl"
  },
  "language_info": {
   "codemirror_mode": "text/x-common-lisp",
   "file_extension": ".lisp",
   "mimetype": "text/x-common-lisp",
   "name": "common-lisp",
   "pygments_lexer": "common-lisp",
   "version": "2.1.1"
  }
 },
 "nbformat": 4,
 "nbformat_minor": 5
}
