{
 "cells": [
  {
   "cell_type": "code",
   "execution_count": null,
   "id": "0b3bbc31-b901-4b0a-98dc-aa56168e2ff5",
   "metadata": {},
   "outputs": [],
   "source": [
    "(#+quicklisp ql:quickload #-quicklisp asdf:load-system :ngl-clj)"
   ]
  },
  {
   "cell_type": "code",
   "execution_count": null,
   "id": "d249e825-683e-4e3c-a995-23258219708c",
   "metadata": {},
   "outputs": [],
   "source": [
    "(defparameter stage\n",
    "  (ngl:make-stage :layout (jw:make-layout :height \"600px\")\n",
    "                  :components (list (ngl:make-structure :auto-view-duration 0\n",
    "                                                        :value \"https://files.rcsb.org/download/3SN6.cif\"\n",
    "                                                        :representations (list (ngl:make-cartoon :color-scale \"RdYlBu\"))\n",
    "                                                        :annotations (list (ngl:make-annotation :content \"<div style='color:black;background-color:firebrick;padding:8px'>alpha subunit</div>\"\n",
    "                                                                                                :position #(16.73900032043457 -6.85099983215332 35.875))\n",
    "                                                                           (ngl:make-annotation :content \"<div style='color:black;background-color:orange;padding:8px'>beta subunit</div>\"\n",
    "                                                                                                :position #(37.625 -6.560999870300293 60.79600143432617))\n",
    "                                                                           (ngl:make-annotation :content \"<div style='color:black;background-color:khaki;padding:8px'>gamma subunit</div>\"\n",
    "                                                                                                :position #(60.481998443603516 21.01799964904785 60.625999450683594))\n",
    "                                                                           (ngl:make-annotation :content \"<div style='color:black;background-color:skyblue;padding:8px'>beta 2 adrenergic receptor</div>\"\n",
    "                                                                                                :position #(26.76099967956543 17.83099937438965 -15.560999870300293))\n",
    "                                                                           (ngl:make-annotation :content \"<div style='color:black;background-color:royalblue;padding:8px'>nanobody</div>\"\n",
    "                                                                                                :position #(8.770000457763672 33.08000183105469 64.33599853515625)))))))\n",
    "(j:display stage)"
   ]
  },
  {
   "cell_type": "code",
   "execution_count": null,
   "id": "347b622e-3f6c-4368-91e2-6f42ad272200",
   "metadata": {},
   "outputs": [],
   "source": []
  }
 ],
 "metadata": {
  "kernelspec": {
   "display_name": "Common Lisp (SBCL)",
   "language": "common-lisp",
   "name": "common-lisp_sbcl"
  },
  "language_info": {
   "codemirror_mode": "text/x-common-lisp",
   "file_extension": ".lisp",
   "mimetype": "text/x-common-lisp",
   "name": "common-lisp",
   "pygments_lexer": "common-lisp",
   "version": "2.2.4"
  }
 },
 "nbformat": 4,
 "nbformat_minor": 5
}
