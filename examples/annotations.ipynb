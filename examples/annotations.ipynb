{
 "cells": [
  {
   "cell_type": "code",
   "execution_count": 1,
   "id": "0b3bbc31-b901-4b0a-98dc-aa56168e2ff5",
   "metadata": {},
   "outputs": [
    {
     "name": "stdout",
     "output_type": "stream",
     "text": [
      "To load \"ngl-clj\":\n",
      "  Load 1 ASDF system:\n",
      "    ngl-clj\n"
     ]
    },
    {
     "data": {
      "text/plain": [
       "(:NGL-CLJ)"
      ]
     },
     "execution_count": 1,
     "metadata": {},
     "output_type": "execute_result"
    },
    {
     "name": "stdout",
     "output_type": "stream",
     "text": [
      "\n",
      "; Loading \"ngl-clj\"\n",
      "\n"
     ]
    }
   ],
   "source": [
    "(ql:quickload :ngl-clj)"
   ]
  },
  {
   "cell_type": "code",
   "execution_count": 3,
   "id": "d249e825-683e-4e3c-a995-23258219708c",
   "metadata": {},
   "outputs": [
    {
     "data": {
      "application/vnd.jupyter.widget-view+json": {
       "model_id": "e31747c14f1d45887d4358747f328347",
       "version_major": 2,
       "version_minor": 0
      },
      "text/plain": [
       "A Jupyter Widget"
      ]
     },
     "execution_count": 3,
     "metadata": {},
     "output_type": "execute_result"
    }
   ],
   "source": [
    "(make-instance 'ngl:stage \n",
    "               :layout (make-instance 'jupyter-widgets:layout :height \"600px\")\n",
    "               :components (list (make-instance 'ngl:structure\n",
    "                                                :auto-view-duration 0\n",
    "                                                :value \"https://files.rcsb.org/download/3SN6.cif\"\n",
    "                                                :representations (list (make-instance 'ngl:cartoon \n",
    "                                                                                      :color-scale \"RdYlBu\"))\n",
    "                                                :annotations (list (make-instance 'ngl:annotation\n",
    "                                                                                  :content \"<div style='color:black;background-color:firebrick;padding:8px'>alpha subunit</div>\"\n",
    "                                                                                  :position #(16.73900032043457 -6.85099983215332 35.875))\n",
    "                                                                   (make-instance 'ngl:annotation\n",
    "                                                                                  :content \"<div style='color:black;background-color:orange;padding:8px'>beta subunit</div>\"\n",
    "                                                                                  :position #(37.625 -6.560999870300293 60.79600143432617))\n",
    "                                                                   (make-instance 'ngl:annotation\n",
    "                                                                                  :content \"<div style='color:black;background-color:khaki;padding:8px'>gamma subunit</div>\"\n",
    "                                                                                  :position #(60.481998443603516 21.01799964904785 60.625999450683594))\n",
    "                                                                   (make-instance 'ngl:annotation\n",
    "                                                                                  :content \"<div style='color:black;background-color:skyblue;padding:8px'>beta 2 adrenergic receptor</div>\"\n",
    "                                                                                  :position #(26.76099967956543 17.83099937438965 -15.560999870300293))\n",
    "                                                                   (make-instance 'ngl:annotation\n",
    "                                                                                  :content \"<div style='color:black;background-color:royalblue;padding:8px'>nanobody</div>\"\n",
    "                                                                                  :position #(8.770000457763672 33.08000183105469 64.33599853515625))))))"
   ]
  },
  {
   "cell_type": "code",
   "execution_count": null,
   "id": "347b622e-3f6c-4368-91e2-6f42ad272200",
   "metadata": {},
   "outputs": [],
   "source": []
  }
 ],
 "metadata": {
  "kernelspec": {
   "display_name": "Common Lisp (SBCL)",
   "language": "common-lisp",
   "name": "common-lisp_sbcl"
  },
  "language_info": {
   "codemirror_mode": "text/x-common-lisp",
   "file_extension": ".lisp",
   "mimetype": "text/x-common-lisp",
   "name": "common-lisp",
   "pygments_lexer": "common-lisp",
   "version": "2.1.1"
  }
 },
 "nbformat": 4,
 "nbformat_minor": 5
}
