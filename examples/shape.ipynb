{
 "cells": [
  {
   "cell_type": "code",
   "execution_count": 8,
   "id": "a80b0034-6ad8-49c0-b92a-a20bf1eb1630",
   "metadata": {},
   "outputs": [
    {
     "name": "stdout",
     "output_type": "stream",
     "text": [
      "To load \"ngl-clj\":\n",
      "  Load 1 ASDF system:\n",
      "    ngl-clj\n"
     ]
    },
    {
     "data": {
      "text/plain": [
       "(:NGL-CLJ)"
      ]
     },
     "execution_count": 8,
     "metadata": {},
     "output_type": "execute_result"
    },
    {
     "name": "stdout",
     "output_type": "stream",
     "text": [
      "\n",
      "; Loading \"ngl-clj\"\n",
      "\n"
     ]
    }
   ],
   "source": [
    "(ql:quickload :ngl-clj)"
   ]
  },
  {
   "cell_type": "code",
   "execution_count": 9,
   "id": "0ead07f6-7ab3-4788-a85b-04e1b942fda1",
   "metadata": {},
   "outputs": [
    {
     "data": {
      "text/plain": [
       "A"
      ]
     },
     "execution_count": 9,
     "metadata": {},
     "output_type": "execute_result"
    },
    {
     "data": {
      "application/vnd.jupyter.widget-view+json": {
       "model_id": "e7d4e629af0f4cd05b231fffefd24401",
       "version_major": 2,
       "version_minor": 0
      },
      "text/plain": [
       "A Jupyter Widget"
      ]
     },
     "metadata": {},
     "output_type": "display_data"
    }
   ],
   "source": [
    "(defparameter a (ngl:make-stage :layout (jw:make-layout :height \"600px\")\n",
    "                                :components (list (ngl:make-shape :primitives `((:type \"mesh\" :position (0 0 0 0 1 0 0 0 1 0 1 1 0 1 0 0 0 1)\n",
    "                                                                                       :color (0 1 0 0 1 0 0 1 0 0 1 0 0 1 0 0 1 0)\n",
    "                                                                                       :name \"MyMesh\")\n",
    "                                                                                (:type \"sphere\" :position (0 0 0) :color (1 0 0) :radius 1.5)\n",
    "                                                                                (:type \"sphere\" :position (12 5 15) :color (1 0.5 0) :radius 1)\n",
    "                                                                                (:type \"ellipsoid\" :position (6 0 0) :color (1 0 0) :radius 1.5 :major-axis (3 0 0) :minor-axis (0 2 0))\n",
    "                                                                                (:type \"cylinder\" :position1 (0 2 7) :position2 (0 0 9) :color (1 1 0) :radius 0.5 :name \"MyCylinder\")\n",
    "                                                                                (:type \"cone\" :position1 (0 2 7) :position2 (0 3 3) :color (1 1 0) :radius 1.5)\n",
    "                                                                                (:type \"arrow\" :position1 (1 2 7) :position2 (30 3 3) :color (1 0 1) :radius 1.0)\n",
    "                                                                                (:type \"arrow\" :position1 (2 2 7) :position2 (30 -3 -3) :color (1 0.5 1) :radius 1.0)\n",
    "                                                                                (:type \"box\" :position (23 1 2) :color (0 1 0) :size 2 :height-axis (0 1 1) :depth-axis (1 0 1))\n",
    "                                                                                (:type \"tetrahedron\" :position (27 0 1) :color (0 1 0) :size 2 :height-axis (0 1 1) :depth-axis (1 0 1))\n",
    "                                                                                (:type \"octahedron\" :position (8 5 14) :color (0 1 0) :size 2 :height-axis (0 1 1) :depth-axis (1 0 1))\n",
    "                                                                                (:type \"torus\" :position (16 5 14) :color (0 1 0) :radius 2 :major-axis (0 1 1) :minor-axis (1 0 1))\n",
    "                                                                                (:type \"text\" :position (15 -4 4) :color (0.2 0.5 0.8) :size 2.5 :text \"Hello\"))))))\n",
    "(j:display a)"
   ]
  },
  {
   "cell_type": "code",
   "execution_count": 10,
   "id": "d2a777fd-597a-496c-9d63-f65d9c9d99fa",
   "metadata": {},
   "outputs": [],
   "source": [
    "(ngl:auto-view a)"
   ]
  },
  {
   "cell_type": "code",
   "execution_count": null,
   "id": "a90f17dc-7a19-4125-b0f9-eda3c9f6ebcb",
   "metadata": {},
   "outputs": [],
   "source": []
  }
 ],
 "metadata": {
  "kernelspec": {
   "display_name": "Common Lisp (SBCL)",
   "language": "common-lisp",
   "name": "common-lisp_sbcl"
  },
  "language_info": {
   "codemirror_mode": "text/x-common-lisp",
   "file_extension": ".lisp",
   "mimetype": "text/x-common-lisp",
   "name": "common-lisp",
   "pygments_lexer": "common-lisp",
   "version": "2.1.1"
  }
 },
 "nbformat": 4,
 "nbformat_minor": 5
}
