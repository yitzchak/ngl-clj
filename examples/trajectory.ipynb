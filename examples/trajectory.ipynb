{
 "cells": [
  {
   "cell_type": "code",
   "execution_count": null,
   "metadata": {},
   "outputs": [],
   "source": [
    "(ql:quickload :ngl-clj)"
   ]
  },
  {
   "cell_type": "code",
   "execution_count": null,
   "metadata": {},
   "outputs": [],
   "source": [
    "(defparameter stage (ngl:make-stage :components (list (ngl:make-structure :value (alexandria:read-file-into-string \"DPDP.pdb\")\n",
    "                                                                          :ext \"pdb\"\n",
    "                                                                          :auto-view-duration 0\n",
    "                                                                          :representations (list (ngl:make-licorice))\n",
    "                                                                          :trajectories (list (ngl:make-trajectory :interpolate-type \"spline\"\n",
    "                                                                                                                   :value (alexandria:read-file-into-byte-vector \"DPDP.nc\")\n",
    "                                                                                                                   :ext \"nc\"))))\n",
    "                                    :layout (jw:make-layout :height \"700px\")))\n",
    "(j:display stage)"
   ]
  },
  {
   "cell_type": "code",
   "execution_count": null,
   "metadata": {},
   "outputs": [],
   "source": [
    "(ngl:play stage)"
   ]
  },
  {
   "cell_type": "code",
   "execution_count": null,
   "metadata": {},
   "outputs": [],
   "source": [
    "(ngl:stop stage)"
   ]
  },
  {
   "cell_type": "code",
   "execution_count": null,
   "metadata": {},
   "outputs": [],
   "source": []
  }
 ],
 "metadata": {
  "kernelspec": {
   "display_name": "Common Lisp (SBCL)",
   "language": "common-lisp",
   "name": "common-lisp_sbcl"
  },
  "language_info": {
   "codemirror_mode": "text/x-common-lisp",
   "file_extension": ".lisp",
   "mimetype": "text/x-common-lisp",
   "name": "common-lisp",
   "pygments_lexer": "common-lisp",
   "version": "2.1.1"
  },
  "widgets": {
   "application/vnd.jupyter.widget-state+json": {
    "state": {},
    "version_major": 2,
    "version_minor": 0
   }
  }
 },
 "nbformat": 4,
 "nbformat_minor": 4
}
