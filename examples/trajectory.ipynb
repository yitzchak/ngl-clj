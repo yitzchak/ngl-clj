{
 "cells": [
  {
   "cell_type": "code",
   "execution_count": null,
   "metadata": {},
   "outputs": [],
   "source": [
    "(#+quicklisp ql:quickload #-quicklisp asdf:load-system :ngl-clj)"
   ]
  },
  {
   "cell_type": "code",
   "execution_count": null,
   "metadata": {},
   "outputs": [],
   "source": [
    "(defparameter stage (ngl:make-stage :components (list (ngl:make-structure :value (alexandria:read-file-into-string \"DPDP.pdb\")\n",
    "                                                                          :ext \"pdb\"\n",
    "                                                                          :auto-view-duration 0\n",
    "                                                                          :representations (list (ngl:make-licorice))\n",
    "                                                                          :trajectories (list (ngl:make-trajectory :interpolate-type \"spline\"\n",
    "                                                                                                                   :value (alexandria:read-file-into-byte-vector \"DPDP.nc\")\n",
    "                                                                                                                   :ext \"nc\"))))\n",
    "                                    :layout (jw:make-layout :height \"700px\")))\n",
    "(j:display stage)"
   ]
  },
  {
   "cell_type": "code",
   "execution_count": null,
   "metadata": {},
   "outputs": [],
   "source": [
    "(ngl:play stage)"
   ]
  },
  {
   "cell_type": "code",
   "execution_count": null,
   "metadata": {},
   "outputs": [],
   "source": [
    "(ngl:pause stage)"
   ]
  }
 ],
 "metadata": {
  "kernelspec": {
   "display_name": "Common Lisp (SBCL)",
   "language": "common-lisp",
   "name": "common-lisp_sbcl"
  },
  "language_info": {
   "codemirror_mode": "text/x-common-lisp",
   "file_extension": ".lisp",
   "mimetype": "text/x-common-lisp",
   "name": "common-lisp",
   "pygments_lexer": "common-lisp",
   "version": "2.2.4"
  },
  "widgets": {
   "application/vnd.jupyter.widget-state+json": {
    "state": {
     "3349a9ed69b1421d51f6ffc8553b130d": {
      "model_module": "ngl-clj",
      "model_module_version": "^0.8.0",
      "model_name": "TrajectoryModel",
      "state": {
       "_model_module_version": "^0.8.0",
       "_view_module_version": "^0.8.0",
       "ext": "nc",
       "interpolate_type": "spline",
       "value": {}
      }
     },
     "3e7409d71dd1478e1916c299fad430cc": {
      "model_module": "ngl-clj",
      "model_module_version": "^0.8.0",
      "model_name": "LicoriceModel",
      "state": {
       "_model_module_version": "^0.8.0",
       "_view_module_version": "^0.8.0",
       "color_domain": false,
       "color_scheme": "element",
       "color_value": "#909090",
       "diffuse": "#ffffff",
       "interior_color": "#222222",
       "quality": null,
       "roughness": 0.39999999999999997
      }
     },
     "d86af21571134fb3703e5d6a5e98cc17": {
      "model_module": "@jupyter-widgets/base",
      "model_module_version": "1.2.0",
      "model_name": "LayoutModel",
      "state": {
       "height": "700px"
      }
     }
    },
    "version_major": 2,
    "version_minor": 0
   }
  }
 },
 "nbformat": 4,
 "nbformat_minor": 4
}
