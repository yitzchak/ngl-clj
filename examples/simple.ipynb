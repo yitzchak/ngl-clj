{
 "cells": [
  {
   "cell_type": "code",
   "execution_count": 1,
   "metadata": {},
   "outputs": [
    {
     "name": "stdout",
     "output_type": "stream",
     "text": [
      "To load \"ngl-clj\":\n",
      "  Load 1 ASDF system:\n",
      "    ngl-clj\n",
      "; Loading \"ngl-clj\"\n",
      "[package ngl]....."
     ]
    },
    {
     "data": {
      "text/plain": [
       "(:NGL-CLJ)"
      ]
     },
     "execution_count": 1,
     "metadata": {},
     "output_type": "execute_result"
    },
    {
     "name": "stdout",
     "output_type": "stream",
     "text": [
      "\n"
     ]
    }
   ],
   "source": [
    "(#+quicklisp ql:quickload #-quicklisp asdf:load-system :ngl-clj)"
   ]
  },
  {
   "cell_type": "code",
   "execution_count": 2,
   "metadata": {},
   "outputs": [
    {
     "data": {
      "text/plain": [
       "A"
      ]
     },
     "execution_count": 2,
     "metadata": {},
     "output_type": "execute_result"
    },
    {
     "data": {
      "application/vnd.jupyter.widget-view+json": {
       "model_id": "22bada6e8acf4c43b3962e418ad73272",
       "version_major": 2,
       "version_minor": 0
      },
      "text/plain": [
       "A Jupyter Widget"
      ]
     },
     "metadata": {},
     "output_type": "display_data"
    }
   ],
   "source": [
    "(defparameter a\n",
    "  (ngl:make-stage :layout (jw:make-layout :height \"600px\")\n",
    "                  :components (list (ngl:make-structure :auto-view-duration 0\n",
    "                                                        :value \"https://files.rcsb.org/download/3sn6.pdb\"\n",
    "                                                        :representations (list (ngl:make-cartoon))))))\n",
    "(j:display a)"
   ]
  },
  {
   "cell_type": "code",
   "execution_count": null,
   "metadata": {},
   "outputs": [],
   "source": []
  }
 ],
 "metadata": {
  "kernelspec": {
   "display_name": "Common Lisp (clasp-boehmprecise)",
   "language": "common-lisp",
   "name": "common-lisp_clasp-boehmprecise"
  },
  "language_info": {
   "codemirror_mode": "text/x-common-lisp",
   "file_extension": ".lisp",
   "mimetype": "text/x-common-lisp",
   "name": "common-lisp",
   "pygments_lexer": "common-lisp",
   "version": "cclasp-boehmprecise-vclasp-291-g7edb23753-g88b917fc-cst"
  },
  "widgets": {
   "application/vnd.jupyter.widget-state+json": {
    "state": {
     "15597c864ec14505dd1b6600c0c5c805": {
      "model_module": "ngl-clj",
      "model_module_version": "^0.8.0",
      "model_name": "StructureModel",
      "state": {
       "_model_module_version": "^0.8.0",
       "_view_module_version": "^0.8.0",
       "as_trajectory": true,
       "auto_view_duration": 0,
       "representations": [
        "IPY_MODEL_1bbc1cdf4b7040ca339628836b1ea61e"
       ],
       "trajectories": [
        "IPY_MODEL_91b0a5c823174b9f48d26ed1baa017a0"
       ],
       "value": "https://files.rcsb.org/download/3sn6.pdb"
      }
     },
     "1bbc1cdf4b7040ca339628836b1ea61e": {
      "model_module": "ngl-clj",
      "model_module_version": "^0.8.0",
      "model_name": "CartoonModel",
      "state": {
       "_model_module_version": "^0.8.0",
       "_view_module_version": "^0.8.0",
       "color_domain": false,
       "color_value": "#909090",
       "diffuse": "#ffffff",
       "interior_color": "#222222",
       "quality": null,
       "radial_segments": 10,
       "roughness": 0.39999999999999997
      }
     },
     "85ffab0371c34499579f4cb0d6c1a49b": {
      "model_module": "ngl-clj",
      "model_module_version": "^0.8.0",
      "model_name": "StageModel",
      "state": {
       "_model_module_version": "^0.8.0",
       "_view_module_version": "^0.8.0",
       "components": [
        "IPY_MODEL_15597c864ec14505dd1b6600c0c5c805"
       ],
       "layout": "IPY_MODEL_b91fcd66c44b483f85d3bf4f0c96b5ef",
       "zoom_speed": 1.2
      }
     },
     "91b0a5c823174b9f48d26ed1baa017a0": {
      "model_module": "ngl-clj",
      "model_module_version": "^0.8.0",
      "model_name": "TrajectoryModel",
      "state": {
       "_model_module_version": "^0.8.0",
       "_view_module_version": "^0.8.0"
      }
     },
     "b91fcd66c44b483f85d3bf4f0c96b5ef": {
      "model_module": "@jupyter-widgets/base",
      "model_module_version": "1.2.0",
      "model_name": "LayoutModel",
      "state": {
       "height": "600px"
      }
     }
    },
    "version_major": 2,
    "version_minor": 0
   }
  }
 },
 "nbformat": 4,
 "nbformat_minor": 4
}
