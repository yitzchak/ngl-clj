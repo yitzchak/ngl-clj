{
 "cells": [
  {
   "cell_type": "code",
   "execution_count": 1,
   "metadata": {},
   "outputs": [
    {
     "name": "stdout",
     "output_type": "stream",
     "text": [
      "To load \"ngl-clj\":\n",
      "  Load 1 ASDF system:\n",
      "    ngl-clj\n",
      "\n",
      "; Loading \"ngl-clj\"\n",
      "..."
     ]
    },
    {
     "data": {
      "text/plain": [
       "(:NGL-CLJ)"
      ]
     },
     "execution_count": 1,
     "metadata": {},
     "output_type": "execute_result"
    },
    {
     "name": "stdout",
     "output_type": "stream",
     "text": [
      "\n"
     ]
    }
   ],
   "source": [
    "(ql:quickload :ngl-clj)"
   ]
  },
  {
   "cell_type": "code",
   "execution_count": 2,
   "metadata": {},
   "outputs": [
    {
     "data": {
      "text/plain": [
       "A"
      ]
     },
     "execution_count": 2,
     "metadata": {},
     "output_type": "execute_result"
    },
    {
     "data": {
      "application/vnd.jupyter.widget-view+json": {
       "model_id": "2306c5f234c44fe671425ac47afee195",
       "version_major": 2,
       "version_minor": 0
      },
      "text/plain": [
       "A Jupyter Widget"
      ]
     },
     "metadata": {},
     "output_type": "display_data"
    }
   ],
   "source": [
    "(defparameter a (make-instance 'ngl:stage :layout (make-instance 'jupyter-widgets:layout :height \"600px\")))\n",
    "    a"
   ]
  },
  {
   "cell_type": "code",
   "execution_count": 3,
   "metadata": {},
   "outputs": [
    {
     "data": {
      "text/plain": [
       "(#<NGL:SHAPE {1001A03CC3}>)"
      ]
     },
     "execution_count": 3,
     "metadata": {},
     "output_type": "execute_result"
    }
   ],
   "source": [
    "(setf (ngl:components a) (list (make-instance 'ngl:shape\n",
    "                                              :primitives `((:type \"mesh\" :position (0 0 0 0 1 0 0 0 1 0 1 1 0 1 0 0 0 1)\n",
    "                                                                   :color (0 1 0 0 1 0 0 1 0 0 1 0 0 1 0 0 1 0)\n",
    "                                                                   :name \"MyMesh\")\n",
    "                                                                                                                        (:type \"sphere\" :position (0 0 0) :color (1 0 0) :radius 1.5)\n",
    "                                                            (:type \"sphere\" :position (12 5 15) :color (1 0.5 0) :radius 1)\n",
    "                                                            (:type \"ellipsoid\" :position (6 0 0) :color (1 0 0) :radius 1.5 :major-axis (3 0 0) :minor-axis (0 2 0))\n",
    "                                                            (:type \"cylinder\" :position1 (0 2 7) :position2 (0 0 9) :color (1 1 0) :radius 0.5 :name \"MyCylinder\")\n",
    "                                                            (:type \"cone\" :position1 (0 2 7) :position2 (0 3 3) :color (1 1 0) :radius 1.5)\n",
    "                                                            (:type \"arrow\" :position1 (1 2 7) :position2 (30 3 3) :color (1 0 1) :radius 1.0)\n",
    "                                                            (:type \"arrow\" :position1 (2 2 7) :position2 (30 -3 -3) :color (1 0.5 1) :radius 1.0)\n",
    "                                                            (:type \"box\" :position (23 1 2) :color (0 1 0) :size 2 :height-axis (0 1 1) :depth-axis (1 0 1))\n",
    "                                                            (:type \"tetrahedron\" :position (27 0 1) :color (0 1 0) :size 2 :height-axis (0 1 1) :depth-axis (1 0 1))\n",
    "                                                            (:type \"octahedron\" :position (8 5 14) :color (0 1 0) :size 2 :height-axis (0 1 1) :depth-axis (1 0 1))\n",
    "                                                            (:type \"torus\" :position (16 5 14) :color (0 1 0) :radius 2 :major-axis (0 1 1) :minor-axis (1 0 1))\n",
    "                                                            (:type \"text\" :position (15 -4 4) :color (0.2 0.5 0.8) :size 2.5 :text \"Hello\")))))"
   ]
  },
  {
   "cell_type": "code",
   "execution_count": 3,
   "metadata": {},
   "outputs": [
    {
     "data": {
      "text/plain": [
       "(#<NGL:STRUCTURE {10048C0FC3}>)"
      ]
     },
     "execution_count": 3,
     "metadata": {},
     "output_type": "execute_result"
    }
   ],
   "source": [
    "(setf (ngl:components a) (list (make-instance 'ngl:structure :as-trajectory t :value \"rcsb://3sn6\" :representations (list (make-instance 'ngl:cartoon)))))"
   ]
  },
  {
   "cell_type": "code",
   "execution_count": 4,
   "metadata": {},
   "outputs": [
    {
     "data": {
      "text/plain": [
       "B"
      ]
     },
     "execution_count": 4,
     "metadata": {},
     "output_type": "execute_result"
    }
   ],
   "source": [
    "(defparameter b (first (ngl:components a)))"
   ]
  },
  {
   "cell_type": "code",
   "execution_count": 5,
   "metadata": {},
   "outputs": [
    {
     "data": {
      "text/plain": [
       "(#<NGL:CARTOON {1005F45F23}> #<NGL:BUFFER-REPRESENTATION {10039198E3}>)"
      ]
     },
     "execution_count": 5,
     "metadata": {},
     "output_type": "execute_result"
    }
   ],
   "source": [
    "(setf (ngl:representations b)  (list (make-instance 'ngl:cartoon)\n",
    "                                     (make-instance 'ngl:buffer-representation\n",
    "                                                    :opacity 0.5\n",
    "                                                    :buffer '(:type \"wideline\"\n",
    "                                                              :color (1 1 1)\n",
    "                                                              :color2 (1 1 1)\n",
    "                                                              :position1 (0 0 0)\n",
    "                                                              :position2 (1 1 1)))))"
   ]
  },
  {
   "cell_type": "code",
   "execution_count": null,
   "metadata": {},
   "outputs": [],
   "source": []
  }
 ],
 "metadata": {
  "kernelspec": {
   "display_name": "Common Lisp (SBCL)",
   "language": "common-lisp",
   "name": "common-lisp_sbcl"
  },
  "language_info": {
   "codemirror_mode": "text/x-common-lisp",
   "file_extension": ".lisp",
   "mimetype": "text/x-common-lisp",
   "name": "common-lisp",
   "pygments_lexer": "common-lisp",
   "version": "2.0.10"
  },
  "widgets": {
   "application/vnd.jupyter.widget-state+json": {
    "state": {
     "0347bb194cdf449447de2b39a043132a": {
      "model_module": "@jupyter-widgets/base",
      "model_module_version": "1.2.0",
      "model_name": "LayoutModel",
      "state": {
       "height": "600px"
      }
     },
     "122871e1a7dc48b54dc1af20cbaf1337": {
      "model_module": "ngl-clj",
      "model_module_version": "^0.2.14",
      "model_name": "CartoonModel",
      "state": {
       "_model_module_version": "^0.2.14",
       "_view_module_version": "^0.2.14",
       "color_domain": [],
       "color_value": "#909090",
       "diffuse": "#ffffff",
       "interior_color": "#222222",
       "quality": null
      }
     },
     "2a9730951ace443b7f2495df5e9afa07": {
      "model_module": "ngl-clj",
      "model_module_version": "^0.2.14",
      "model_name": "CartoonModel",
      "state": {
       "_model_module_version": "^0.2.14",
       "_view_module_version": "^0.2.14",
       "color_domain": [],
       "color_value": "#909090",
       "diffuse": "#ffffff",
       "interior_color": "#222222",
       "quality": null
      }
     },
     "3b00df0902b147381916813178b798a1": {
      "model_module": "ngl-clj",
      "model_module_version": "^0.2.14",
      "model_name": "BufferRepresentationModel",
      "state": {
       "_model_module_version": "^0.2.14",
       "_view_module_version": "^0.2.14",
       "buffer": {
        "color": [
         1,
         1,
         1
        ],
        "color2": [
         1,
         1,
         1
        ],
        "position1": [
         0,
         0,
         0
        ],
        "position2": [
         1,
         1,
         1
        ],
        "type": "wideline"
       },
       "color_domain": [],
       "color_value": "#909090",
       "diffuse": "#ffffff",
       "interior_color": "#222222",
       "opacity": 0.5,
       "quality": null
      }
     },
     "43beb6577bfa4e2dc2268a3596dd8491": {
      "model_module": "ngl-clj",
      "model_module_version": "^0.2.14",
      "model_name": "StageModel",
      "state": {
       "_model_module_version": "^0.2.14",
       "_view_module_version": "^0.2.14",
       "components": [
        "IPY_MODEL_4405e44ebc4f462974f33832c8b50b92"
       ],
       "layout": "IPY_MODEL_0347bb194cdf449447de2b39a043132a",
       "zoom_speed": 1.2
      }
     },
     "4405e44ebc4f462974f33832c8b50b92": {
      "model_module": "ngl-clj",
      "model_module_version": "^0.2.14",
      "model_name": "StructureModel",
      "state": {
       "_model_module_version": "^0.2.14",
       "_view_module_version": "^0.2.14",
       "as_trajectory": true,
       "representations": [
        "IPY_MODEL_2a9730951ace443b7f2495df5e9afa07",
        "IPY_MODEL_3b00df0902b147381916813178b798a1"
       ],
       "value": "rcsb://3sn6"
      }
     }
    },
    "version_major": 2,
    "version_minor": 0
   }
  }
 },
 "nbformat": 4,
 "nbformat_minor": 4
}
