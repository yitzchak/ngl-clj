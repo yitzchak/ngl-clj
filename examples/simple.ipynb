{
 "cells": [
  {
   "cell_type": "code",
   "execution_count": null,
   "metadata": {},
   "outputs": [],
   "source": [
    "(ql:quickload :ngl-clj)"
   ]
  },
  {
   "cell_type": "code",
   "execution_count": null,
   "metadata": {},
   "outputs": [],
   "source": [
    "(defparameter a (ngl:make-stage :layout (jw:make-layout :height \"600px\")\n",
    "                                :components (list (ngl:make-structure\n",
    "                                                                 :as-trajectory t\n",
    "                                                                 :auto-view-duration 0\n",
    "                                                                 :value \"https://files.rcsb.org/download/3sn6.pdb\"\n",
    "                                                                 :trajectories (list (make-instance 'ngl:trajectory))\n",
    "                                                                 :representations (list (make-instance 'ngl:cartoon))))))\n",
    "(j:display a)"
   ]
  },
  {
   "cell_type": "code",
   "execution_count": null,
   "metadata": {},
   "outputs": [],
   "source": []
  }
 ],
 "metadata": {
  "kernelspec": {
   "display_name": "Common Lisp (SBCL)",
   "language": "common-lisp",
   "name": "common-lisp_sbcl"
  },
  "language_info": {
   "codemirror_mode": "text/x-common-lisp",
   "file_extension": ".lisp",
   "mimetype": "text/x-common-lisp",
   "name": "common-lisp",
   "pygments_lexer": "common-lisp",
   "version": "2.1.1"
  },
  "widgets": {
   "application/vnd.jupyter.widget-state+json": {
    "state": {
     "57fdd91f809f449bd805ded86032c1e8": {
      "model_module": "ngl-clj",
      "model_module_version": "^0.5.8",
      "model_name": "ShapeModel",
      "state": {
       "_model_module_version": "^0.5.8",
       "_view_module_version": "^0.5.8",
       "primitives": [
        {
         "color": [
          0,
          1,
          0,
          0,
          1,
          0,
          0,
          1,
          0,
          0,
          1,
          0,
          0,
          1,
          0,
          0,
          1,
          0
         ],
         "name": "MyMesh",
         "position": [
          0,
          0,
          0,
          0,
          1,
          0,
          0,
          0,
          1,
          0,
          1,
          1,
          0,
          1,
          0,
          0,
          0,
          1
         ],
         "type": "mesh"
        },
        {
         "color": [
          1,
          0,
          0
         ],
         "position": [
          0,
          0,
          0
         ],
         "radius": 1.5,
         "type": "sphere"
        },
        {
         "color": [
          1,
          0.5,
          0
         ],
         "position": [
          12,
          5,
          15
         ],
         "radius": 1,
         "type": "sphere"
        },
        {
         "color": [
          1,
          0,
          0
         ],
         "major_axis": [
          3,
          0,
          0
         ],
         "minor_axis": [
          0,
          2,
          0
         ],
         "position": [
          6,
          0,
          0
         ],
         "radius": 1.5,
         "type": "ellipsoid"
        },
        {
         "color": [
          1,
          1,
          0
         ],
         "name": "MyCylinder",
         "position1": [
          0,
          2,
          7
         ],
         "position2": [
          0,
          0,
          9
         ],
         "radius": 0.5,
         "type": "cylinder"
        },
        {
         "color": [
          1,
          1,
          0
         ],
         "position1": [
          0,
          2,
          7
         ],
         "position2": [
          0,
          3,
          3
         ],
         "radius": 1.5,
         "type": "cone"
        },
        {
         "color": [
          1,
          0,
          1
         ],
         "position1": [
          1,
          2,
          7
         ],
         "position2": [
          30,
          3,
          3
         ],
         "radius": 1,
         "type": "arrow"
        },
        {
         "color": [
          1,
          0.5,
          1
         ],
         "position1": [
          2,
          2,
          7
         ],
         "position2": [
          30,
          -3,
          -3
         ],
         "radius": 1,
         "type": "arrow"
        },
        {
         "color": [
          0,
          1,
          0
         ],
         "depth_axis": [
          1,
          0,
          1
         ],
         "height_axis": [
          0,
          1,
          1
         ],
         "position": [
          23,
          1,
          2
         ],
         "size": 2,
         "type": "box"
        },
        {
         "color": [
          0,
          1,
          0
         ],
         "depth_axis": [
          1,
          0,
          1
         ],
         "height_axis": [
          0,
          1,
          1
         ],
         "position": [
          27,
          0,
          1
         ],
         "size": 2,
         "type": "tetrahedron"
        },
        {
         "color": [
          0,
          1,
          0
         ],
         "depth_axis": [
          1,
          0,
          1
         ],
         "height_axis": [
          0,
          1,
          1
         ],
         "position": [
          8,
          5,
          14
         ],
         "size": 2,
         "type": "octahedron"
        },
        {
         "color": [
          0,
          1,
          0
         ],
         "major_axis": [
          0,
          1,
          1
         ],
         "minor_axis": [
          1,
          0,
          1
         ],
         "position": [
          16,
          5,
          14
         ],
         "radius": 2,
         "type": "torus"
        },
        {
         "color": [
          0.2,
          0.5,
          0.8
         ],
         "position": [
          15,
          -4,
          4
         ],
         "size": 2.5,
         "text": "Hello",
         "type": "text"
        }
       ],
       "representations": [
        "IPY_MODEL_f5ffac4af9df46a8960dc6cb5fa2d94d"
       ]
      }
     },
     "5c248b663a824b17aa26eacb4a366e51": {
      "model_module": "ngl-clj",
      "model_module_version": "^0.5.8",
      "model_name": "StructureModel",
      "state": {
       "_model_module_version": "^0.5.8",
       "_view_module_version": "^0.5.8",
       "as_trajectory": true,
       "representations": [
        "IPY_MODEL_87b08ff9f446419d45c88c1abf45a47a"
       ],
       "trajectories": [
        "IPY_MODEL_d8d646013eeb4eaf69f21bbe22bf89d9"
       ],
       "value": "rcsb://3sn6"
      }
     },
     "5ef8ab9b0afa47a2d83b08a4005db9a7": {
      "model_module": "ngl-clj",
      "model_module_version": "^0.5.8",
      "model_name": "StageModel",
      "state": {
       "_model_module_version": "^0.5.8",
       "_view_module_version": "^0.5.8",
       "components": [
        "IPY_MODEL_5c248b663a824b17aa26eacb4a366e51"
       ],
       "layout": "IPY_MODEL_84e8a954894f47f734dd72e53ac428f3",
       "zoom_speed": 1.2
      }
     },
     "84e8a954894f47f734dd72e53ac428f3": {
      "model_module": "@jupyter-widgets/base",
      "model_module_version": "1.2.0",
      "model_name": "LayoutModel",
      "state": {
       "height": "600px"
      }
     },
     "87b08ff9f446419d45c88c1abf45a47a": {
      "model_module": "ngl-clj",
      "model_module_version": "^0.5.8",
      "model_name": "CartoonModel",
      "state": {
       "_model_module_version": "^0.5.8",
       "_view_module_version": "^0.5.8",
       "color_domain": false,
       "color_value": "#909090",
       "diffuse": "#ffffff",
       "interior_color": "#222222",
       "quality": null,
       "radial_segments": 10,
       "roughness": 0.39999999999999997
      }
     },
     "d8d646013eeb4eaf69f21bbe22bf89d9": {
      "model_module": "ngl-clj",
      "model_module_version": "^0.5.8",
      "model_name": "TrajectoryModel",
      "state": {
       "_model_module_version": "^0.5.8",
       "_view_module_version": "^0.5.8",
       "is_running": true
      }
     },
     "f5ffac4af9df46a8960dc6cb5fa2d94d": {
      "model_module": "ngl-clj",
      "model_module_version": "^0.5.8",
      "model_name": "BufferRepresentationModel",
      "state": {
       "_model_module_version": "^0.5.8",
       "_view_module_version": "^0.5.8",
       "buffer": {},
       "color_domain": false,
       "color_value": "#909090",
       "diffuse": "#ffffff",
       "interior_color": "#222222",
       "quality": null,
       "roughness": 0.39999999999999997
      }
     }
    },
    "version_major": 2,
    "version_minor": 0
   }
  }
 },
 "nbformat": 4,
 "nbformat_minor": 4
}
