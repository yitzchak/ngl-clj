{
 "cells": [
  {
   "cell_type": "code",
   "execution_count": 3,
   "metadata": {},
   "outputs": [
    {
     "data": {
      "text/plain": [
       "T"
      ]
     },
     "execution_count": 3,
     "metadata": {},
     "output_type": "execute_result"
    },
    {
     "name": "stdout",
     "output_type": "stream",
     "text": [
      "SB-KERNEL:REDEFINITION-WITH-DEFUN: redefining NGL:MAKE-BUFFER-REPRESENTATION in DEFUN\n",
      "SB-KERNEL:REDEFINITION-WITH-DEFUN: redefining NGL:MAKE-AXES-REPRESENTATION in DEFUN\n",
      "SB-KERNEL:REDEFINITION-WITH-DEFUN: redefining NGL:MAKE-CARTOON in DEFUN\n",
      "SB-KERNEL:REDEFINITION-WITH-DEFUN: redefining NGL:MAKE-BALL-AND-STICK in DEFUN\n",
      "SB-KERNEL:REDEFINITION-WITH-DEFUN: redefining NGL:MAKE-BACKBONE in DEFUN\n",
      "SB-KERNEL:REDEFINITION-WITH-DEFUN: redefining NGL:MAKE-BASE in DEFUN\n",
      "SB-KERNEL:REDEFINITION-WITH-DEFUN: redefining NGL:MAKE-LICORICE in DEFUN\n",
      "SB-KERNEL:REDEFINITION-WITH-DEFUN: redefining NGL:MAKE-LINE in DEFUN\n",
      "SB-KERNEL:REDEFINITION-WITH-DEFUN: redefining NGL:MAKE-HELIXORIENT in DEFUN\n",
      "SB-KERNEL:REDEFINITION-WITH-DEFUN: redefining NGL:MAKE-DIHEDRAL in DEFUN\n",
      "SB-KERNEL:REDEFINITION-WITH-DEFUN: redefining NGL:MAKE-RIBBON in DEFUN\n",
      "SB-KERNEL:REDEFINITION-WITH-DEFUN: redefining NGL:MAKE-SPACEFILL in DEFUN\n",
      "SB-KERNEL:REDEFINITION-WITH-DEFUN: redefining NGL:MAKE-SURFACE in DEFUN\n",
      "SB-KERNEL:REDEFINITION-WITH-DEFUN: redefining NGL:MAKE-UNITCELL in DEFUN\n",
      "SB-INT:SIMPLE-STYLE-WARNING: reading an ignored variable: I\n",
      "SB-INT:SIMPLE-STYLE-WARNING: reading an ignored variable: I\n",
      "SB-KERNEL:REDEFINITION-WITH-DEFUN: redefining NGL:MAKE-TRAJECTORY in DEFUN\n",
      "SB-KERNEL:REDEFINITION-WITH-DEFMETHOD: redefining PLAY (#<JUPYTER/WIDGETS:TRAIT-METACLASS NGL:TRAJECTORY>) in DEFMETHOD\n",
      "SB-KERNEL:REDEFINITION-WITH-DEFMETHOD: redefining PAUSE (#<JUPYTER/WIDGETS:TRAIT-METACLASS NGL:TRAJECTORY>) in DEFMETHOD\n",
      "SB-KERNEL:REDEFINITION-WITH-DEFMETHOD: redefining STOP (#<JUPYTER/WIDGETS:TRAIT-METACLASS NGL:TRAJECTORY>) in DEFMETHOD\n",
      "SB-KERNEL:REDEFINITION-WITH-DEFMETHOD: redefining JUPYTER/WIDGETS:ON-CUSTOM-MESSAGE (#<JUPYTER/WIDGETS:TRAIT-METACLASS NGL:TRAJECTORY>\n",
      "                                                                                     #<SB-PCL:SYSTEM-CLASS COMMON-LISP:T>\n",
      "                                                                                     #<SB-PCL:SYSTEM-CLASS COMMON-LISP:T>) in DEFMETHOD\n",
      "SB-KERNEL:REDEFINITION-WITH-DEFUN: redefining NGL:MAKE-STRUCTURE in DEFUN\n",
      "SB-KERNEL:REDEFINITION-WITH-DEFMETHOD: redefining PLAY (#<JUPYTER/WIDGETS:TRAIT-METACLASS NGL:STRUCTURE>) in DEFMETHOD\n",
      "SB-KERNEL:REDEFINITION-WITH-DEFMETHOD: redefining PAUSE (#<JUPYTER/WIDGETS:TRAIT-METACLASS NGL:STRUCTURE>) in DEFMETHOD\n",
      "SB-KERNEL:REDEFINITION-WITH-DEFMETHOD: redefining STOP (#<JUPYTER/WIDGETS:TRAIT-METACLASS NGL:STRUCTURE>) in DEFMETHOD\n",
      "SB-KERNEL:REDEFINITION-WITH-DEFUN: redefining NGL:UPDATE-POSITION in DEFUN\n",
      "SB-KERNEL:REDEFINITION-WITH-DEFUN: redefining NGL:REMOVE-ALL-MEASUREMENTS in DEFUN\n",
      "SB-KERNEL:REDEFINITION-WITH-DEFUN: redefining NGL:REMOVE-MEASUREMENT in DEFUN\n",
      "SB-KERNEL:REDEFINITION-WITH-DEFUN: redefining NGL:ADD-MEASUREMENT in DEFUN\n",
      "SB-KERNEL:REDEFINITION-WITH-DEFUN: redefining NGL:MAKE-SHAPE in DEFUN\n",
      "SB-KERNEL:REDEFINITION-WITH-DEFUN: redefining NGL:MAKE-STAGE in DEFUN\n",
      "SB-KERNEL:REDEFINITION-WITH-DEFMETHOD: redefining INITIALIZE-INSTANCE :AFTER (#<JUPYTER/WIDGETS:TRAIT-METACLASS NGL:STAGE>) in DEFMETHOD\n",
      "SB-KERNEL:REDEFINITION-WITH-DEFUN: redefining NGL::MAKE-IMAGE in DEFUN\n",
      "SB-KERNEL:REDEFINITION-WITH-DEFMETHOD: redefining JUPYTER/WIDGETS:ON-CUSTOM-MESSAGE (#<JUPYTER/WIDGETS:TRAIT-METACLASS NGL:STAGE>\n",
      "                                                                                     #<SB-PCL:SYSTEM-CLASS COMMON-LISP:T>\n",
      "                                                                                     #<SB-PCL:SYSTEM-CLASS COMMON-LISP:T>) in DEFMETHOD\n",
      "SB-KERNEL:REDEFINITION-WITH-DEFMETHOD: redefining PLAY (#<JUPYTER/WIDGETS:TRAIT-METACLASS NGL:STAGE>) in DEFMETHOD\n",
      "SB-KERNEL:REDEFINITION-WITH-DEFMETHOD: redefining PAUSE (#<JUPYTER/WIDGETS:TRAIT-METACLASS NGL:STAGE>) in DEFMETHOD\n",
      "SB-KERNEL:REDEFINITION-WITH-DEFMETHOD: redefining STOP (#<JUPYTER/WIDGETS:TRAIT-METACLASS NGL:STAGE>) in DEFMETHOD\n",
      "SB-KERNEL:REDEFINITION-WITH-DEFUN: redefining NGL:ON-STAGE-PICK in DEFUN\n",
      "SB-KERNEL:REDEFINITION-WITH-DEFUN: redefining NGL:ON-STAGE-SELECT in DEFUN\n"
     ]
    }
   ],
   "source": [
    "(#+quicklisp ql:quickload #-quicklisp asdf:load-system :ngl-clj)"
   ]
  },
  {
   "cell_type": "code",
   "execution_count": 4,
   "metadata": {},
   "outputs": [
    {
     "data": {
      "text/plain": [
       "A"
      ]
     },
     "execution_count": 4,
     "metadata": {},
     "output_type": "execute_result"
    },
    {
     "data": {
      "application/vnd.jupyter.widget-view+json": {
       "model_id": "b94c0ceda7614dafb71e8ad609067ac9",
       "version_major": 2,
       "version_minor": 0
      },
      "text/plain": [
       "A Jupyter Widget"
      ]
     },
     "metadata": {},
     "output_type": "display_data"
    }
   ],
   "source": [
    "(defparameter a\n",
    "  (ngl:make-stage :layout (jw:make-layout :height \"600px\")\n",
    "                  :components (list (ngl:make-structure :auto-view-duration 0\n",
    "                                                        :value \"https://files.rcsb.org/download/3sn6.pdb\"\n",
    "                                                        :representations (list (ngl:make-cartoon))))))\n",
    "(j:display a)"
   ]
  },
  {
   "cell_type": "code",
   "execution_count": null,
   "metadata": {},
   "outputs": [],
   "source": []
  }
 ],
 "metadata": {
  "kernelspec": {
   "display_name": "Common Lisp (SBCL)",
   "language": "common-lisp",
   "name": "common-lisp_sbcl"
  },
  "language_info": {
   "codemirror_mode": "text/x-common-lisp",
   "file_extension": ".lisp",
   "mimetype": "text/x-common-lisp",
   "name": "common-lisp",
   "pygments_lexer": "common-lisp",
   "version": "2.2.5"
  },
  "widgets": {
   "application/vnd.jupyter.widget-state+json": {
    "state": {
     "15597c864ec14505dd1b6600c0c5c805": {
      "model_module": "ngl-clj",
      "model_module_version": "^0.8.0",
      "model_name": "StructureModel",
      "state": {
       "_model_module_version": "^0.8.0",
       "_view_module_version": "^0.8.0",
       "as_trajectory": true,
       "auto_view_duration": 0,
       "representations": [
        "IPY_MODEL_1bbc1cdf4b7040ca339628836b1ea61e"
       ],
       "trajectories": [
        "IPY_MODEL_91b0a5c823174b9f48d26ed1baa017a0"
       ],
       "value": "https://files.rcsb.org/download/3sn6.pdb"
      }
     },
     "1bbc1cdf4b7040ca339628836b1ea61e": {
      "model_module": "ngl-clj",
      "model_module_version": "^0.8.0",
      "model_name": "CartoonModel",
      "state": {
       "_model_module_version": "^0.8.0",
       "_view_module_version": "^0.8.0",
       "color_domain": false,
       "color_value": "#909090",
       "diffuse": "#ffffff",
       "interior_color": "#222222",
       "quality": null,
       "radial_segments": 10,
       "roughness": 0.39999999999999997
      }
     },
     "85ffab0371c34499579f4cb0d6c1a49b": {
      "model_module": "ngl-clj",
      "model_module_version": "^0.8.0",
      "model_name": "StageModel",
      "state": {
       "_model_module_version": "^0.8.0",
       "_view_module_version": "^0.8.0",
       "components": [
        "IPY_MODEL_15597c864ec14505dd1b6600c0c5c805"
       ],
       "layout": "IPY_MODEL_b91fcd66c44b483f85d3bf4f0c96b5ef",
       "zoom_speed": 1.2
      }
     },
     "91b0a5c823174b9f48d26ed1baa017a0": {
      "model_module": "ngl-clj",
      "model_module_version": "^0.8.0",
      "model_name": "TrajectoryModel",
      "state": {
       "_model_module_version": "^0.8.0",
       "_view_module_version": "^0.8.0"
      }
     },
     "b91fcd66c44b483f85d3bf4f0c96b5ef": {
      "model_module": "@jupyter-widgets/base",
      "model_module_version": "1.2.0",
      "model_name": "LayoutModel",
      "state": {
       "height": "600px"
      }
     }
    },
    "version_major": 2,
    "version_minor": 0
   }
  }
 },
 "nbformat": 4,
 "nbformat_minor": 4
}
