{
 "cells": [
  {
   "cell_type": "code",
   "execution_count": 1,
   "metadata": {},
   "outputs": [
    {
     "name": "stdout",
     "output_type": "stream",
     "text": [
      "\n",
      "; Loading \"ngl-clj\"\n",
      "[package ngl].."
     ]
    },
    {
     "data": {
      "text/plain": [
       "(:NGL-CLJ)"
      ]
     },
     "execution_count": 1,
     "metadata": {},
     "output_type": "execute_result"
    },
    {
     "name": "stdout",
     "output_type": "stream",
     "text": [
      "\n"
     ]
    }
   ],
   "source": [
    "(ql:quickload :ngl-clj)"
   ]
  },
  {
   "cell_type": "code",
   "execution_count": 2,
   "metadata": {},
   "outputs": [
    {
     "data": {
      "text/plain": [
       "A"
      ]
     },
     "execution_count": 2,
     "metadata": {},
     "output_type": "execute_result"
    },
    {
     "data": {
      "application/vnd.jupyter.widget-view+json": {
       "model_id": "6eec1095e3fa48e91e513b6ce033398a",
       "version_major": 2,
       "version_minor": 0
      },
      "text/plain": [
       "A Jupyter Widget"
      ]
     },
     "metadata": {},
     "output_type": "display_data"
    }
   ],
   "source": [
    "(defparameter a (make-instance 'ngl:stage :layout (make-instance 'jupyter-widgets:layout :height \"600px\")))\n",
    "    a"
   ]
  },
  {
   "cell_type": "code",
   "execution_count": 3,
   "metadata": {},
   "outputs": [
    {
     "data": {
      "text/plain": [
       "(#<NGL:STRUCTURE {1003A48AF3}>)"
      ]
     },
     "execution_count": 3,
     "metadata": {},
     "output_type": "execute_result"
    }
   ],
   "source": [
    "(setf (ngl:components a) (list (make-instance 'ngl:structure :as-trajectory t :value \"rcsb://1BLJ\" :representations (list (make-instance 'ngl:ball-and-stick)))))"
   ]
  },
  {
   "cell_type": "code",
   "execution_count": 4,
   "metadata": {},
   "outputs": [
    {
     "data": {
      "text/plain": [
       "\"residueindex\""
      ]
     },
     "execution_count": 4,
     "metadata": {},
     "output_type": "execute_result"
    }
   ],
   "source": [
    "(setf (ngl:color-scheme (first (ngl:representations (first (ngl:components a))))) \"residueindex\")"
   ]
  },
  {
   "cell_type": "code",
   "execution_count": 4,
   "metadata": {},
   "outputs": [
    {
     "data": {
      "text/plain": [
       "B"
      ]
     },
     "execution_count": 4,
     "metadata": {},
     "output_type": "execute_result"
    },
    {
     "data": {
      "application/vnd.jupyter.widget-view+json": {
       "model_id": "eb1e4e91976c470e525d407b87c193dc",
       "version_major": 2,
       "version_minor": 0
      },
      "text/plain": [
       "A Jupyter Widget"
      ]
     },
     "metadata": {},
     "output_type": "display_data"
    }
   ],
   "source": [
    "(defparameter b (make-instance 'jupyter-widgets:output))\n",
    "b"
   ]
  },
  {
   "cell_type": "code",
   "execution_count": 5,
   "metadata": {},
   "outputs": [
    {
     "data": {
      "text/plain": [
       "(#<FUNCTION (LAMBDA (INST DATA)) {52FFDC7B}>)"
      ]
     },
     "execution_count": 5,
     "metadata": {},
     "output_type": "execute_result"
    },
    {
     "name": "stdout",
     "output_type": "stream",
     "text": [
      "[SB-INT:SIMPLE-STYLE-WARNING] The variable INST is defined but never used.\n"
     ]
    }
   ],
   "source": [
    "(ngl:on-stage-pick a (lambda (inst data)\n",
    "                       (when (equal \"click\" (getf data :signal))\n",
    "                         (jupyter-widgets:with-output b (print data)))))"
   ]
  },
  {
   "cell_type": "code",
   "execution_count": 9,
   "metadata": {},
   "outputs": [
    {
     "data": {
      "text/plain": [
       "#<STANDARD-METHOD JUPYTER-WIDGETS:ON-CUSTOM-MESSAGE (NGL:STAGE T T) {10039BC0E3}>"
      ]
     },
     "execution_count": 9,
     "metadata": {},
     "output_type": "execute_result"
    },
    {
     "name": "stdout",
     "output_type": "stream",
     "text": [
      "[SB-KERNEL:REDEFINITION-WITH-DEFMETHOD] redefining JUPYTER-WIDGETS:ON-CUSTOM-MESSAGE (#<JUPYTER-WIDGETS:TRAIT-METACLASS NGL:STAGE>\n",
      " #<SB-PCL:SYSTEM-CLASS COMMON-LISP:T> #<SB-PCL:SYSTEM-CLASS COMMON-LISP:T>) in DEFMETHOD\n"
     ]
    }
   ],
   "source": [
    "(defmethod jupyter-widgets:on-custom-message ((instance ngl:stage) content buffers)\n",
    "  (declare (ignore buffers))\n",
    "  (jupyter-widgets:with-output b (print content))\n",
    "    (call-next-method))"
   ]
  },
  {
   "cell_type": "code",
   "execution_count": null,
   "metadata": {},
   "outputs": [],
   "source": []
  },
  {
   "cell_type": "code",
   "execution_count": 5,
   "metadata": {},
   "outputs": [
    {
     "data": {
      "text/plain": [
       "B"
      ]
     },
     "execution_count": 5,
     "metadata": {},
     "output_type": "execute_result"
    }
   ],
   "source": []
  },
  {
   "cell_type": "code",
   "execution_count": 7,
   "metadata": {},
   "outputs": [
    {
     "data": {
      "application/vnd.jupyter.widget-view+json": {
       "model_id": "3fab76d449a34210a6bb9689eb7dd31f",
       "version_major": 2,
       "version_minor": 0
      },
      "text/plain": [
       "A Jupyter Widget"
      ]
     },
     "metadata": {},
     "output_type": "display_data"
    }
   ],
   "source": [
    "b"
   ]
  },
  {
   "cell_type": "code",
   "execution_count": 11,
   "metadata": {},
   "outputs": [
    {
     "data": {
      "text/plain": [
       "C"
      ]
     },
     "execution_count": 11,
     "metadata": {},
     "output_type": "execute_result"
    }
   ],
   "source": [
    "(defparameter c nil)"
   ]
  },
  {
   "cell_type": "code",
   "execution_count": 13,
   "metadata": {},
   "outputs": [
    {
     "data": {
      "text/plain": [
       "NIL"
      ]
     },
     "execution_count": 13,
     "metadata": {},
     "output_type": "execute_result"
    }
   ],
   "source": [
    "c"
   ]
  },
  {
   "cell_type": "code",
   "execution_count": null,
   "metadata": {},
   "outputs": [
    {
     "ename": "UNBOUND-VARIABLE",
     "evalue": "The variable B is unbound.",
     "output_type": "error",
     "traceback": []
    },
    {
     "name": "stdout",
     "output_type": "stream",
     "text": [
      "[SIMPLE-WARNING] undefined variable: COMMON-LISP-USER::B\n"
     ]
    },
    {
     "name": "stderr",
     "output_type": "stream",
     "text": [
      "The variable B is unbound.\n",
      "   [Condition of type UNBOUND-VARIABLE]\n",
      "\n",
      "#<ENVIRONMENT {10043C7443}>\n",
      "   [Environment of thread #<THREAD \"SHELL Thread\" RUNNING {1001888103}>]\n",
      "\n",
      "\n",
      "Backtrace:\n",
      " 5: (SB-KERNEL::%SIGNAL The variable B is unbound.)\n",
      " 6: (ERROR The variable B is unbound.)\n",
      " 7: (SB-KERNEL:WITH-SIMPLE-CONDITION-RESTARTS ERROR NIL The variable B is unbound.)\n",
      " 8: ((LABELS SB-KERNEL::TRY :IN SB-KERNEL::RESTART-UNBOUND) The variable B is unbound.)\n",
      " 9: (SB-KERNEL::RESTART-UNBOUND B The variable B is unbound. -3225)\n",
      " 10: (SB-KERNEL:INTERNAL-ERROR #.(SB-SYS:INT-SAP #X7F0000FEDC80) #<unused argument>)\n",
      " 11: (\"foreign function: call_into_lisp\")\n",
      " 12: (\"foreign function: funcall2\")\n",
      " 13: (\"foreign function: interrupt_internal_error\")\n",
      " 14: (\"foreign function: #x5649A33DC1E3\")\n",
      " 15: ((LAMBDA NIL))\n",
      " 16: (SB-INT:SIMPLE-EVAL-IN-LEXENV (SETF (TRAJECTORIES B) (LIST (MAKE-INSTANCE (QUOTE TRAJECTORY) INTERPOLATE-STEP 50 INTERPOLATE-TYPE spline))) #<NULL-LEXENV>)\n",
      " 17: (EVAL (SETF (TRAJECTORIES B) (LIST (MAKE-INSTANCE (QUOTE TRAJECTORY) INTERPOLATE-STEP 50 INTERPOLATE-TYPE spline))))\n",
      " 18: (COMMON-LISP-JUPYTER::MY-EVAL (SETF (TRAJECTORIES B) (LIST (MAKE-INSTANCE (QUOTE TRAJECTORY) INTERPOLATE-STEP 50 INTERPOLATE-TYPE spline))))\n",
      " 19: ((:METHOD JUPYTER:EVALUATE-CODE (COMMON-LISP-JUPYTER:KERNEL T)) #<unused argument> (setf (ngl:trajectories b) (list (make-instance 'ngl:trajectory :interpolate-step 50 :interpolate-type \"spline\"))))\n",
      " 20: (JUPYTER::HANDLE-EXECUTE-REQUEST #<KERNEL {10042F8F23}> #<MESSAGE {100413F473}>)\n",
      " 21: (JUPYTER::HANDLE-SHELL-MESSAGE #<KERNEL {10042F8F23}> #<MESSAGE {100413F473}>)\n",
      " 22: (JUPYTER::RUN-SHELL #<KERNEL {10042F8F23}>)\n",
      " 23: ((LAMBDA NIL :IN BORDEAUX-THREADS::BINDING-DEFAULT-SPECIALS))\n",
      " 24: ((FLET SB-UNIX::BODY :IN SB-THREAD::RUN))\n",
      " 25: ((FLET \"WITHOUT-INTERRUPTS-BODY-11\" :IN SB-THREAD::RUN))\n",
      " 26: ((FLET SB-UNIX::BODY :IN SB-THREAD::RUN))\n",
      " 27: ((FLET \"WITHOUT-INTERRUPTS-BODY-4\" :IN SB-THREAD::RUN))\n",
      " 28: (SB-THREAD::RUN)\n",
      " 29: (\"foreign function: call_into_lisp\")\n",
      " 30: (\"foreign function: funcall1\")"
     ]
    }
   ],
   "source": [
    "(setf (ngl:trajectories b) (list (make-instance 'ngl:trajectory :interpolate-step 50 :interpolate-type \"spline\")))"
   ]
  },
  {
   "cell_type": "code",
   "execution_count": 8,
   "metadata": {},
   "outputs": [],
   "source": [
    "(defmethod)"
   ]
  },
  {
   "cell_type": "code",
   "execution_count": 9,
   "metadata": {},
   "outputs": [],
   "source": [
    "(ngl:stop a)"
   ]
  },
  {
   "cell_type": "code",
   "execution_count": 11,
   "metadata": {},
   "outputs": [
    {
     "data": {
      "text/plain": [
       "\"linear\""
      ]
     },
     "execution_count": 11,
     "metadata": {},
     "output_type": "execute_result"
    }
   ],
   "source": [
    "(setf (ngl::interpolate-type (first (ngl:trajectories b))) \"linear\")"
   ]
  },
  {
   "cell_type": "code",
   "execution_count": null,
   "metadata": {},
   "outputs": [],
   "source": [
    "(setf (ngl:components a) (list (make-instance 'ngl:%structure :value (alexandria:read-file-into-string #P\"~/Documents/git/fep-benchmark/eg5/3l9h_prepared_fixed3.pdb\") :ext \"pdb\")))"
   ]
  },
  {
   "cell_type": "code",
   "execution_count": 5,
   "metadata": {},
   "outputs": [
    {
     "data": {
      "text/plain": [
       "\"7AF1\""
      ]
     },
     "execution_count": 5,
     "metadata": {},
     "output_type": "execute_result"
    }
   ],
   "source": [
    "(ngl::name (first (ngl:components a)))"
   ]
  },
  {
   "cell_type": "code",
   "execution_count": 7,
   "metadata": {},
   "outputs": [
    {
     "data": {
      "text/plain": [
       "0"
      ]
     },
     "execution_count": 7,
     "metadata": {},
     "output_type": "execute_result"
    }
   ],
   "source": [
    "(ngl::auto-view (first (ngl:components a)))"
   ]
  },
  {
   "cell_type": "code",
   "execution_count": 4,
   "metadata": {},
   "outputs": [
    {
     "data": {
      "text/plain": [
       "\"7AF1\""
      ]
     },
     "execution_count": 4,
     "metadata": {},
     "output_type": "execute_result"
    }
   ],
   "source": [
    "(ngl::name (first (ngl:components a)))"
   ]
  },
  {
   "cell_type": "code",
   "execution_count": 5,
   "metadata": {},
   "outputs": [
    {
     "data": {
      "text/plain": [
       "\"fu\""
      ]
     },
     "execution_count": 5,
     "metadata": {},
     "output_type": "execute_result"
    }
   ],
   "source": [
    "(setf (ngl::name (first (ngl:components a))) \"fu\")"
   ]
  },
  {
   "cell_type": "code",
   "execution_count": 10,
   "metadata": {},
   "outputs": [
    {
     "data": {
      "text/plain": [
       "2.0d0"
      ]
     },
     "execution_count": 10,
     "metadata": {},
     "output_type": "execute_result"
    }
   ],
   "source": [
    "(ngl::scale (first (ngl:components a)))"
   ]
  },
  {
   "cell_type": "code",
   "execution_count": 9,
   "metadata": {},
   "outputs": [
    {
     "data": {
      "text/plain": [
       "2.0d0"
      ]
     },
     "execution_count": 9,
     "metadata": {},
     "output_type": "execute_result"
    }
   ],
   "source": [
    "(setf (ngl::scale (first (ngl:components a))) 2d0)"
   ]
  },
  {
   "cell_type": "code",
   "execution_count": 5,
   "metadata": {},
   "outputs": [
    {
     "data": {
      "text/plain": [
       "NIL"
      ]
     },
     "execution_count": 5,
     "metadata": {},
     "output_type": "execute_result"
    }
   ],
   "source": [
    "(setf (ngl:spin a) nil)"
   ]
  },
  {
   "cell_type": "code",
   "execution_count": 15,
   "metadata": {},
   "outputs": [
    {
     "data": {
      "text/plain": [
       "*BLOB*"
      ]
     },
     "execution_count": 15,
     "metadata": {},
     "output_type": "execute_result"
    },
    {
     "data": {
      "text/plain": [
       "*TYPE*"
      ]
     },
     "execution_count": 15,
     "metadata": {},
     "output_type": "execute_result"
    },
    {
     "data": {
      "text/plain": [
       "0"
      ]
     },
     "execution_count": 15,
     "metadata": {},
     "output_type": "execute_result"
    }
   ],
   "source": [
    "(defparameter *blob* nil)\n",
    "(defparameter *type* nil)\n",
    "(ngl::make-image a (lambda (m n) (setf *blob* m *type* n)) :antialias t :trim t :transparent t)"
   ]
  },
  {
   "cell_type": "code",
   "execution_count": 16,
   "metadata": {},
   "outputs": [
    {
     "data": {
      "text/plain": [
       "\"image/png\""
      ]
     },
     "execution_count": 16,
     "metadata": {},
     "output_type": "execute_result"
    }
   ],
   "source": [
    "*type*"
   ]
  },
  {
   "cell_type": "code",
   "execution_count": 7,
   "metadata": {},
   "outputs": [
    {
     "data": {
      "text/plain": [
       "T"
      ]
     },
     "execution_count": 7,
     "metadata": {},
     "output_type": "execute_result"
    }
   ],
   "source": [
    "(ngl:fullscreen a)"
   ]
  },
  {
   "cell_type": "code",
   "execution_count": null,
   "metadata": {},
   "outputs": [],
   "source": []
  }
 ],
 "metadata": {
  "kernelspec": {
   "display_name": "Common Lisp (SBCL)",
   "language": "common-lisp",
   "name": "common-lisp_sbcl"
  },
  "language_info": {
   "codemirror_mode": "text/x-common-lisp",
   "file_extension": ".lisp",
   "mimetype": "text/x-common-lisp",
   "name": "common-lisp",
   "pygments_lexer": "common-lisp",
   "version": "2.0.10"
  }
 },
 "nbformat": 4,
 "nbformat_minor": 4
}
