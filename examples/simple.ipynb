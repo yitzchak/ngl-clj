{
 "cells": [
  {
   "cell_type": "code",
   "execution_count": 1,
   "metadata": {},
   "outputs": [
    {
     "name": "stdout",
     "output_type": "stream",
     "text": [
      "To load \"ngl-clj\":\n",
      "  Load 1 ASDF system:\n",
      "    ngl-clj\n"
     ]
    },
    {
     "data": {
      "text/plain": [
       "(:NGL-CLJ)"
      ]
     },
     "execution_count": 1,
     "metadata": {},
     "output_type": "execute_result"
    },
    {
     "name": "stdout",
     "output_type": "stream",
     "text": [
      "\n",
      "; Loading \"ngl-clj\"\n",
      "\n"
     ]
    }
   ],
   "source": [
    "(ql:quickload :ngl-clj)"
   ]
  },
  {
   "cell_type": "code",
   "execution_count": 2,
   "metadata": {},
   "outputs": [
    {
     "data": {
      "text/plain": [
       "A"
      ]
     },
     "execution_count": 2,
     "metadata": {},
     "output_type": "execute_result"
    },
    {
     "data": {
      "application/vnd.jupyter.widget-view+json": {
       "model_id": "5ef8ab9b0afa47a2d83b08a4005db9a7",
       "version_major": 2,
       "version_minor": 0
      },
      "text/plain": [
       "A Jupyter Widget"
      ]
     },
     "metadata": {},
     "output_type": "display_data"
    }
   ],
   "source": [
    "(defparameter a (make-instance 'ngl:stage :layout (make-instance 'jupyter-widgets:layout :height \"600px\")))\n",
    "    a"
   ]
  },
  {
   "cell_type": "code",
   "execution_count": 3,
   "metadata": {},
   "outputs": [
    {
     "data": {
      "text/plain": [
       "(#<NGL:SHAPE {1003AE40A3}>)"
      ]
     },
     "execution_count": 3,
     "metadata": {},
     "output_type": "execute_result"
    }
   ],
   "source": [
    "(setf (ngl:components a) (list (make-instance 'ngl:shape\n",
    "                                              :primitives `((:type \"mesh\" :position (0 0 0 0 1 0 0 0 1 0 1 1 0 1 0 0 0 1)\n",
    "                                                                   :color (0 1 0 0 1 0 0 1 0 0 1 0 0 1 0 0 1 0)\n",
    "                                                                   :name \"MyMesh\")\n",
    "                                                                                                                        (:type \"sphere\" :position (0 0 0) :color (1 0 0) :radius 1.5)\n",
    "                                                            (:type \"sphere\" :position (12 5 15) :color (1 0.5 0) :radius 1)\n",
    "                                                            (:type \"ellipsoid\" :position (6 0 0) :color (1 0 0) :radius 1.5 :major-axis (3 0 0) :minor-axis (0 2 0))\n",
    "                                                            (:type \"cylinder\" :position1 (0 2 7) :position2 (0 0 9) :color (1 1 0) :radius 0.5 :name \"MyCylinder\")\n",
    "                                                            (:type \"cone\" :position1 (0 2 7) :position2 (0 3 3) :color (1 1 0) :radius 1.5)\n",
    "                                                            (:type \"arrow\" :position1 (1 2 7) :position2 (30 3 3) :color (1 0 1) :radius 1.0)\n",
    "                                                            (:type \"arrow\" :position1 (2 2 7) :position2 (30 -3 -3) :color (1 0.5 1) :radius 1.0)\n",
    "                                                            (:type \"box\" :position (23 1 2) :color (0 1 0) :size 2 :height-axis (0 1 1) :depth-axis (1 0 1))\n",
    "                                                            (:type \"tetrahedron\" :position (27 0 1) :color (0 1 0) :size 2 :height-axis (0 1 1) :depth-axis (1 0 1))\n",
    "                                                            (:type \"octahedron\" :position (8 5 14) :color (0 1 0) :size 2 :height-axis (0 1 1) :depth-axis (1 0 1))\n",
    "                                                            (:type \"torus\" :position (16 5 14) :color (0 1 0) :radius 2 :major-axis (0 1 1) :minor-axis (1 0 1))\n",
    "                                                            (:type \"text\" :position (15 -4 4) :color (0.2 0.5 0.8) :size 2.5 :text \"Hello\")))))"
   ]
  },
  {
   "cell_type": "code",
   "execution_count": 4,
   "metadata": {},
   "outputs": [
    {
     "data": {
      "text/plain": [
       "(#<NGL:STRUCTURE {1005428193}>)"
      ]
     },
     "execution_count": 4,
     "metadata": {},
     "output_type": "execute_result"
    }
   ],
   "source": [
    "(setf (ngl:components a) (list (make-instance 'ngl:structure \n",
    "                                              :as-trajectory t \n",
    "                                              :value \"rcsb://3sn6\" \n",
    "                                              :trajectories (list (make-instance 'ngl:trajectory))\n",
    "                                              :representations (list (make-instance 'ngl:cartoon)))))"
   ]
  },
  {
   "cell_type": "code",
   "execution_count": 6,
   "metadata": {},
   "outputs": [],
   "source": [
    "(ngl:auto-view a)"
   ]
  },
  {
   "cell_type": "code",
   "execution_count": 7,
   "metadata": {},
   "outputs": [],
   "source": [
    "(ngl:play a)"
   ]
  },
  {
   "cell_type": "code",
   "execution_count": null,
   "metadata": {},
   "outputs": [],
   "source": [
    "(setf (ngl:radial-segments b) nil)"
   ]
  },
  {
   "cell_type": "code",
   "execution_count": null,
   "metadata": {},
   "outputs": [],
   "source": [
    "(ngl:auto-view a)"
   ]
  },
  {
   "cell_type": "code",
   "execution_count": null,
   "metadata": {},
   "outputs": [],
   "source": [
    "(values)"
   ]
  },
  {
   "cell_type": "code",
   "execution_count": null,
   "metadata": {},
   "outputs": [],
   "source": [
    "1"
   ]
  },
  {
   "cell_type": "code",
   "execution_count": null,
   "metadata": {},
   "outputs": [],
   "source": [
    "(values)"
   ]
  },
  {
   "cell_type": "code",
   "execution_count": null,
   "metadata": {},
   "outputs": [],
   "source": [
    "t"
   ]
  },
  {
   "cell_type": "code",
   "execution_count": null,
   "metadata": {},
   "outputs": [],
   "source": [
    "nil"
   ]
  },
  {
   "cell_type": "code",
   "execution_count": null,
   "metadata": {},
   "outputs": [],
   "source": [
    "(values)"
   ]
  },
  {
   "cell_type": "code",
   "execution_count": 1,
   "metadata": {},
   "outputs": [
    {
     "data": {
      "text/plain": [
       "3"
      ]
     },
     "execution_count": 1,
     "metadata": {},
     "output_type": "execute_result"
    }
   ],
   "source": [
    "3"
   ]
  },
  {
   "cell_type": "code",
   "execution_count": 2,
   "metadata": {},
   "outputs": [],
   "source": [
    "(values)"
   ]
  },
  {
   "cell_type": "code",
   "execution_count": 3,
   "metadata": {},
   "outputs": [
    {
     "data": {
      "text/plain": [
       "2"
      ]
     },
     "execution_count": 3,
     "metadata": {},
     "output_type": "execute_result"
    }
   ],
   "source": [
    "2"
   ]
  },
  {
   "cell_type": "code",
   "execution_count": null,
   "metadata": {},
   "outputs": [],
   "source": []
  }
 ],
 "metadata": {
  "kernelspec": {
   "display_name": "Common Lisp (SBCL)",
   "language": "common-lisp",
   "name": "common-lisp_sbcl"
  },
  "language_info": {
   "codemirror_mode": "text/x-common-lisp",
   "file_extension": ".lisp",
   "mimetype": "text/x-common-lisp",
   "name": "common-lisp",
   "pygments_lexer": "common-lisp",
   "version": "2.1.1"
  },
  "widgets": {
   "application/vnd.jupyter.widget-state+json": {
    "state": {
     "57fdd91f809f449bd805ded86032c1e8": {
      "model_module": "ngl-clj",
      "model_module_version": "^0.5.8",
      "model_name": "ShapeModel",
      "state": {
       "_model_module_version": "^0.5.8",
       "_view_module_version": "^0.5.8",
       "primitives": [
        {
         "color": [
          0,
          1,
          0,
          0,
          1,
          0,
          0,
          1,
          0,
          0,
          1,
          0,
          0,
          1,
          0,
          0,
          1,
          0
         ],
         "name": "MyMesh",
         "position": [
          0,
          0,
          0,
          0,
          1,
          0,
          0,
          0,
          1,
          0,
          1,
          1,
          0,
          1,
          0,
          0,
          0,
          1
         ],
         "type": "mesh"
        },
        {
         "color": [
          1,
          0,
          0
         ],
         "position": [
          0,
          0,
          0
         ],
         "radius": 1.5,
         "type": "sphere"
        },
        {
         "color": [
          1,
          0.5,
          0
         ],
         "position": [
          12,
          5,
          15
         ],
         "radius": 1,
         "type": "sphere"
        },
        {
         "color": [
          1,
          0,
          0
         ],
         "major_axis": [
          3,
          0,
          0
         ],
         "minor_axis": [
          0,
          2,
          0
         ],
         "position": [
          6,
          0,
          0
         ],
         "radius": 1.5,
         "type": "ellipsoid"
        },
        {
         "color": [
          1,
          1,
          0
         ],
         "name": "MyCylinder",
         "position1": [
          0,
          2,
          7
         ],
         "position2": [
          0,
          0,
          9
         ],
         "radius": 0.5,
         "type": "cylinder"
        },
        {
         "color": [
          1,
          1,
          0
         ],
         "position1": [
          0,
          2,
          7
         ],
         "position2": [
          0,
          3,
          3
         ],
         "radius": 1.5,
         "type": "cone"
        },
        {
         "color": [
          1,
          0,
          1
         ],
         "position1": [
          1,
          2,
          7
         ],
         "position2": [
          30,
          3,
          3
         ],
         "radius": 1,
         "type": "arrow"
        },
        {
         "color": [
          1,
          0.5,
          1
         ],
         "position1": [
          2,
          2,
          7
         ],
         "position2": [
          30,
          -3,
          -3
         ],
         "radius": 1,
         "type": "arrow"
        },
        {
         "color": [
          0,
          1,
          0
         ],
         "depth_axis": [
          1,
          0,
          1
         ],
         "height_axis": [
          0,
          1,
          1
         ],
         "position": [
          23,
          1,
          2
         ],
         "size": 2,
         "type": "box"
        },
        {
         "color": [
          0,
          1,
          0
         ],
         "depth_axis": [
          1,
          0,
          1
         ],
         "height_axis": [
          0,
          1,
          1
         ],
         "position": [
          27,
          0,
          1
         ],
         "size": 2,
         "type": "tetrahedron"
        },
        {
         "color": [
          0,
          1,
          0
         ],
         "depth_axis": [
          1,
          0,
          1
         ],
         "height_axis": [
          0,
          1,
          1
         ],
         "position": [
          8,
          5,
          14
         ],
         "size": 2,
         "type": "octahedron"
        },
        {
         "color": [
          0,
          1,
          0
         ],
         "major_axis": [
          0,
          1,
          1
         ],
         "minor_axis": [
          1,
          0,
          1
         ],
         "position": [
          16,
          5,
          14
         ],
         "radius": 2,
         "type": "torus"
        },
        {
         "color": [
          0.2,
          0.5,
          0.8
         ],
         "position": [
          15,
          -4,
          4
         ],
         "size": 2.5,
         "text": "Hello",
         "type": "text"
        }
       ],
       "representations": [
        "IPY_MODEL_f5ffac4af9df46a8960dc6cb5fa2d94d"
       ]
      }
     },
     "5c248b663a824b17aa26eacb4a366e51": {
      "model_module": "ngl-clj",
      "model_module_version": "^0.5.8",
      "model_name": "StructureModel",
      "state": {
       "_model_module_version": "^0.5.8",
       "_view_module_version": "^0.5.8",
       "as_trajectory": true,
       "representations": [
        "IPY_MODEL_87b08ff9f446419d45c88c1abf45a47a"
       ],
       "trajectories": [
        "IPY_MODEL_d8d646013eeb4eaf69f21bbe22bf89d9"
       ],
       "value": "rcsb://3sn6"
      }
     },
     "5ef8ab9b0afa47a2d83b08a4005db9a7": {
      "model_module": "ngl-clj",
      "model_module_version": "^0.5.8",
      "model_name": "StageModel",
      "state": {
       "_model_module_version": "^0.5.8",
       "_view_module_version": "^0.5.8",
       "components": [
        "IPY_MODEL_5c248b663a824b17aa26eacb4a366e51"
       ],
       "layout": "IPY_MODEL_84e8a954894f47f734dd72e53ac428f3",
       "zoom_speed": 1.2
      }
     },
     "84e8a954894f47f734dd72e53ac428f3": {
      "model_module": "@jupyter-widgets/base",
      "model_module_version": "1.2.0",
      "model_name": "LayoutModel",
      "state": {
       "height": "600px"
      }
     },
     "87b08ff9f446419d45c88c1abf45a47a": {
      "model_module": "ngl-clj",
      "model_module_version": "^0.5.8",
      "model_name": "CartoonModel",
      "state": {
       "_model_module_version": "^0.5.8",
       "_view_module_version": "^0.5.8",
       "color_domain": false,
       "color_value": "#909090",
       "diffuse": "#ffffff",
       "interior_color": "#222222",
       "quality": null,
       "radial_segments": 10,
       "roughness": 0.39999999999999997
      }
     },
     "d8d646013eeb4eaf69f21bbe22bf89d9": {
      "model_module": "ngl-clj",
      "model_module_version": "^0.5.8",
      "model_name": "TrajectoryModel",
      "state": {
       "_model_module_version": "^0.5.8",
       "_view_module_version": "^0.5.8",
       "is_running": true
      }
     },
     "f5ffac4af9df46a8960dc6cb5fa2d94d": {
      "model_module": "ngl-clj",
      "model_module_version": "^0.5.8",
      "model_name": "BufferRepresentationModel",
      "state": {
       "_model_module_version": "^0.5.8",
       "_view_module_version": "^0.5.8",
       "buffer": {},
       "color_domain": false,
       "color_value": "#909090",
       "diffuse": "#ffffff",
       "interior_color": "#222222",
       "quality": null,
       "roughness": 0.39999999999999997
      }
     }
    },
    "version_major": 2,
    "version_minor": 0
   }
  }
 },
 "nbformat": 4,
 "nbformat_minor": 4
}
